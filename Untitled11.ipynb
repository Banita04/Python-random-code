{
 "cells": [
  {
   "cell_type": "code",
   "execution_count": 8,
   "metadata": {},
   "outputs": [
    {
     "ename": "SyntaxError",
     "evalue": "EOL while scanning string literal (<ipython-input-8-27dccfa5713e>, line 4)",
     "output_type": "error",
     "traceback": [
      "\u001b[1;36m  File \u001b[1;32m\"<ipython-input-8-27dccfa5713e>\"\u001b[1;36m, line \u001b[1;32m4\u001b[0m\n\u001b[1;33m    numgames = int(input(\"Welcome to rock, paper, scissors.\\nHow many games\u001b[0m\n\u001b[1;37m                                                                            ^\u001b[0m\n\u001b[1;31mSyntaxError\u001b[0m\u001b[1;31m:\u001b[0m EOL while scanning string literal\n"
     ]
    }
   ],
   "source": [
    "import random\n",
    "computerscore = 0\n",
    "userscore = 0\n",
    "numgames = int(input(\"Welcome to rock, paper, scissors.\\nHow many games \n",
    "                     would you like to play?\\n\"))\n",
    "userinput = \"\"\n",
    "computerchoice = \"\"\n",
    "userwin = False\n",
    "draw = False\n",
    "choice = \"\"\n",
    "clear = lambda: os.system(\"cls\")\n",
    "\n",
    "for x in range(0, numgames):\n",
    "    generatednum = random.randint(1,3)\n",
    "    if generatednum == 1:\n",
    "        computerchoice = \"rock\"\n",
    "    elif generatednum == 2:\n",
    "        computerchoice = \"paper\"\n",
    "    elif generatednum == 3:\n",
    "        computerchoice = \"scissors\"\n",
    "\n",
    "    userinput = input(\"Select rock, paper, or scissors\\n\")\n",
    "\n",
    "    if userinput == \"rock\" and computerchoice == \"scissors\":\n",
    "        print(\"You selected\",userinput,\"and the computer selected\",\n",
    "              computerchoice,\"You won this round!\")\n",
    "        userscore += 1\n",
    "    elif userinput == \"rock\" and computerchoice == \"paper\":\n",
    "        print(\"You selected\",userinput,\"and the computer selected\",\n",
    "              computerchoice,\"You lost this round!\")\n",
    "        computerscore += 1\n",
    "    if userinput == \"paper\" and computerchoice == \"rock\":\n",
    "        print(\"You selected\",userinput,\"and the computer selected\",\n",
    "              computerchoice,\"You won this round!\")\n",
    "        userscore += 1\n",
    "    elif userinput == \"paper\" and computerchoice == \"scissors\":\n",
    "        print(\"You selected\",userinput,\"and the computer selected\",computerchoice,\". You lost this round!\")\n",
    "        computerscore += 1\n",
    "    if userinput == \"scissors\" and computerchoice == \"paper\":\n",
    "        print(\"You selected\",userinput,\"and the computer selected\",computerchoice,\"You won this round!\")\n",
    "        userscore += 1\n",
    "    elif userinput == \"scissors\" and computerchoice == \"rock\":\n",
    "        print(\"You selected\",userinput,\"and the computer selected\",computerchoice,\"You lost this round!\")\n",
    "        computerscore += 1\n",
    "\n",
    "    if userscore > computerscore:\n",
    "        userwin = True\n",
    "    elif userscore == computerscore:\n",
    "        draw = True\n",
    "\n",
    "if userwin == True:\n",
    "    print(\"Congratulations, you won!\\nYour score:\",userscore,\"\\nComputer's score:\",computerscore)\n",
    "elif draw == True:\n",
    "    print(\"You drew!\\nYour score:\",userscore,\"\\nComputer's score:\",computerscore)\n",
    "elif userwin == False:\n",
    "    print(\"I'm sorry, but you lost.\\nYour score:\",userscore,\"\\nComputer's score:\",computerscore)\n",
    "\n"
   ]
  },
  {
   "cell_type": "code",
   "execution_count": null,
   "metadata": {},
   "outputs": [],
   "source": []
  }
 ],
 "metadata": {
  "kernelspec": {
   "display_name": "Python 3",
   "language": "python",
   "name": "python3"
  }
 },
 "nbformat": 4,
 "nbformat_minor": 4
}
